{
 "cells": [
  {
   "cell_type": "code",
   "execution_count": 7,
   "metadata": {},
   "outputs": [
    {
     "data": {
      "text/html": [
       "<style>.container { width:80% !important; }</style>"
      ],
      "text/plain": [
       "<IPython.core.display.HTML object>"
      ]
     },
     "metadata": {},
     "output_type": "display_data"
    }
   ],
   "source": [
    "# Built-in modules\n",
    "import random\n",
    "from pathlib import Path\n",
    "from datetime import datetime, timedelta\n",
    "from itertools import count\n",
    "\n",
    "import pandas as pd\n",
    "from matplotlib import pyplot as plt\n",
    "from matplotlib import dates as mpl_dates\n",
    "from IPython.core.display import display, HTML\n",
    "\n",
    "from matplotlib.animation import FuncAnimation\n",
    "\n",
    "# Enable matplotlib inline diagraming.\n",
    "%matplotlib inline\n",
    "\n",
    "# Increase the width of Ipython notebook to 80%\n",
    "display(HTML(\"<style>.container { width:80% !important; }</style>\"))\n",
    "\n",
    "DATA_DIR = Path('../Data')\n",
    "\n",
    "plt.style.use('fivethirtyeight')"
   ]
  },
  {
   "cell_type": "code",
   "execution_count": 11,
   "metadata": {},
   "outputs": [
    {
     "data": {
      "text/plain": [
       "<Figure size 432x288 with 0 Axes>"
      ]
     },
     "metadata": {},
     "output_type": "display_data"
    }
   ],
   "source": [
    "x_vals = [0, 1, 2, 3, 4, 5]\n",
    "y_vals = [0, 1, 3, 2, 3, 5]\n",
    "\n",
    "\n",
    "index = count()\n",
    "\n",
    "def animate(i):\n",
    "    x_vals.append(next(index))\n",
    "    y_vals.append(random.randint(0, 5))\n",
    "    plt.cla()\n",
    "    plt.plot(x_vals, y_vals)\n",
    "    \n",
    "ani = FuncAnimation(plt.gcf(), animate, interval=1000)\n",
    "\n",
    "plt.tight_layout()\n",
    "plt.show()\n",
    "\n",
    "\n",
    "# data = pd.read_csv('data.csv')\n",
    "# x = data['x_value']\n",
    "# y1 = data['total_1']\n",
    "# y2 = data['total_2']"
   ]
  }
 ],
 "metadata": {
  "kernelspec": {
   "display_name": "Python 3",
   "language": "python",
   "name": "python3"
  },
  "language_info": {
   "codemirror_mode": {
    "name": "ipython",
    "version": 3
   },
   "file_extension": ".py",
   "mimetype": "text/x-python",
   "name": "python",
   "nbconvert_exporter": "python",
   "pygments_lexer": "ipython3",
   "version": "3.7.3"
  }
 },
 "nbformat": 4,
 "nbformat_minor": 2
}
